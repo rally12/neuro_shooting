{
 "cells": [
  {
   "cell_type": "code",
   "execution_count": 3,
   "metadata": {
    "collapsed": true
   },
   "outputs": [],
   "source": [
    "import os\n",
    "import argparse\n",
    "import time\n",
    "import numpy as np\n",
    "import torch\n",
    "import torch.nn as nn\n",
    "import torch.optim as optim\n",
    "import random\n",
    "import matplotlib.pyplot as plt\n",
    "import matplotlib.cm as cm\n",
    "\n",
    "import neuro_shooting.generic_integrator as generic_integrator\n",
    "from neuro_shooting.shooting_models import AutoShootingIntegrandModelUpDown as UpDown\n",
    "from neuro_shooting.shooting_models import AutoShootingIntegrandModelSimple as Simple\n",
    "from neuro_shooting.shooting_models import AutoShootingIntegrandModelSecondOrder as SecOrder\n",
    "from neuro_shooting.shooting_blocks import ShootingBlockBase as Base"
   ]
  },
  {
   "cell_type": "code",
   "execution_count": 4,
   "metadata": {},
   "outputs": [],
   "source": [
    "gpu = 0\n",
    "device = torch.device('cuda:' + str(gpu) if torch.cuda.is_available() else 'cpu')"
   ]
  },
  {
   "cell_type": "heading",
   "metadata": {},
   "level": 1,
   "source": [
    ""
   ]
  },
  {
   "cell_type": "code",
   "execution_count": 5,
   "metadata": {
    "collapsed": true
   },
   "outputs": [],
   "source": [
    "t_max = 100\n",
    "data_size = 250\n",
    "linear = True\n",
    "\n",
    "t = torch.linspace(0., t_max, data_size).to(device)\n",
    "true_y0 = torch.tensor([[0.6, 0.3]]).to(device)\n",
    "true_A = torch.tensor([[-0.1, -1.0], [1.0, -0.1]]).to(device)\n",
    "\n",
    "class Lambda(nn.Module):\n",
    "\n",
    "    def forward(self, t, y):\n",
    "        if linear:\n",
    "            return torch.mm(y, true_A)\n",
    "        else:\n",
    "            return torch.mm(y**3, true_A)\n",
    "\n",
    "stepsize = 0.5\n",
    "integrator_options = dict()\n",
    "integrator_options = {'step_size': stepsize}\n",
    "rtol = 1e-8\n",
    "atol = 1e-10\n",
    "adjoint = False\n",
    "integrator = generic_integrator.GenericIntegrator(integrator_library = 'odeint', \n",
    "                                                  integrator_name = 'rk4', \n",
    "                                                  use_adjoint_integration=adjoint, \n",
    "                                                  integrator_options=integrator_options, \n",
    "                                                  rtol=rtol, atol=atol)\n",
    "\n",
    "       \n",
    "with torch.no_grad():\n",
    "    true_y = integrator.integrate(func=Lambda(), x0=true_y0, t=t)\n",
    "\n",
    "\n",
    "def get_batch(batch_size, batch_time):\n",
    "    s = torch.from_numpy(np.random.choice(np.arange(data_size - batch_time, dtype=np.int64), batch_size, replace=False)).to(device)\n",
    "    batch_y0 = true_y[s]  # (M, D)\n",
    "    batch_t = t[:batch_time]  # (T)\n",
    "    batch_y = torch.stack([true_y[s + i] for i in range(batch_time)], dim=0)  # (T, M, D)\n",
    "    return batch_y0, batch_t, batch_y\n",
    "\n",
    "def to_np(x):\n",
    "    return x.detach().cpu().numpy()"
   ]
  },
  {
   "cell_type": "heading",
   "metadata": {},
   "level": 1,
   "source": [
    "Visualization"
   ]
  },
  {
   "cell_type": "code",
   "execution_count": 6,
   "metadata": {},
   "outputs": [],
   "source": [
    "def makedirs(dirname):\n",
    "    if not os.path.exists(dirname):\n",
    "        os.makedirs(dirname)\n",
    "        \n",
    "makedirs('png/spiral')\n",
    "    \n",
    "def plot_trajectories(true_y, pred_y, sim_time, save=None, figsize=(16, 8)):\n",
    "\n",
    "    plt.figure(figsize=figsize)\n",
    "\n",
    "    if true_y is not None:\n",
    "        if sim_time is None:\n",
    "            sim_time = [None] * len(true_y)\n",
    "        for o, t in zip(true_y, sim_time):\n",
    "            o, t = to_np(o), to_np(t)\n",
    "            plt.scatter(o[:, :, 0], o[:, :, 1], c=t, cmap=cm.plasma,label='observations (colored by time)')\n",
    "\n",
    "    if pred_y is not None:\n",
    "        for z in pred_y:\n",
    "            z = to_np(z)\n",
    "            plt.plot(z[:, :, 0], z[:, :, 1], lw=1.5, label=\"prediction\")\n",
    "        if save is not None:\n",
    "            plt.savefig(save)\n",
    "\n",
    "    plt.legend()\n",
    "    plt.title('Trajectory: observed versus predicted')\n",
    "    plt.xlabel('y_1')\n",
    "    plt.ylabel('y_2')\n",
    "    plt.show()\n"
   ]
  },
  {
   "cell_type": "heading",
   "metadata": {},
   "level": 1,
   "source": [
    "Model"
   ]
  },
  {
   "cell_type": "code",
   "execution_count": 7,
   "metadata": {},
   "outputs": [],
   "source": [
    "class Model(nn.Module):\n",
    "    def __init__(self, pw=1.0, nr_of_particles=5):\n",
    "        super(Model, self).__init__()\n",
    "        \n",
    "        self.int = UpDown(2, 'tanh', nr_of_particles=nr_of_particles, parameter_weight=pw)        \n",
    "        self.blk = Base('shooting_block', shooting_integrand=self.int)\n",
    "    \n",
    "    def trajectory(self, batch_y0, batch_t):\n",
    "        # batch_t defines time steps for trajectory\n",
    "        # set time steps \n",
    "        self.blk.set_integration_time_vector(batch_t, suppress_warning=True)\n",
    "        # run through shooting block\n",
    "        out = self.blk(batch_y0)\n",
    "        # reset integration time\n",
    "        self.blk.set_integration_time(t_max)   \n",
    "        return out\n",
    "    \n",
    "    def forward(self, batch_y0):\n",
    "        pred_y,_,_,_ = self.blk(batch_y0)\n",
    "        return pred_y\n"
   ]
  },
  {
   "cell_type": "heading",
   "metadata": {},
   "level": 1,
   "source": [
    "Training"
   ]
  },
  {
   "cell_type": "code",
   "execution_count": 9,
   "metadata": {},
   "outputs": [
    {
     "name": "stdout",
     "output_type": "stream",
     "text": [
      "Epoch 100 | Total Loss 0.01\n"
     ]
    }
   ],
   "source": [
    "N_epochs = 100\n",
    "N_particles = 5\n",
    "pw = 0.5\n",
    "batch_size = 10\n",
    "batch_time = 25\n",
    "\n",
    "model = Model(pw=pw, nr_of_particles=N_particles)\n",
    "opt = torch.optim.Adam(model.parameters(), lr=0.1)\n",
    "\n",
    "for epoch in range(1,N_epochs+1):\n",
    "\n",
    "\n",
    "    batch_y0, batch_t, batch_y = get_batch(batch_size, batch_time)\n",
    "\n",
    "    # zero-out gradients\n",
    "    model.zero_grad()\n",
    "    # get output from shooting block + model output\n",
    "    pred_batch_terminal = model(batch_y0)\n",
    "    # compute loss\n",
    "    \n",
    "    loss = torch.mean(torch.norm(pred_batch_terminal - batch_y[batch_time-1,:,:], dim=2))\n",
    "    # backprop\n",
    "    loss.backward()\n",
    "    # take gradient step\n",
    "    opt.step()\n",
    "\n",
    "    # TODO: there's an error here! after calling model.trajectory, can't do forward pass of model anymore, doesn't thrown an error just freezes...\n",
    "    test_freq = 100\n",
    "    if epoch % test_freq == 0:\n",
    "        print('Epoch {} | Total Loss {:.2f}'.format(epoch, loss.item()))\n",
    "        viz_index = 0\n",
    "        pred_batch_trajectory, _, _, _ = model.trajectory(batch_y0, batch_t)\n",
    "        plot_trajectories([batch_y[:,viz_index,:,:]],[pred_batch_trajectory[:,viz_index,:,:]],[batch_t],\n",
    "                                      save=\"./png/spiral/epoch{}.png\".format(epoch), figsize=(16, 8))"
   ]
  },
  {
   "cell_type": "code",
   "execution_count": null,
   "metadata": {},
   "outputs": [],
   "source": []
  }
 ],
 "metadata": {
  "kernelspec": {
   "display_name": "Python 2",
   "language": "python",
   "name": "python2"
  },
  "language_info": {
   "codemirror_mode": {
    "name": "ipython",
    "version": 2
   },
   "file_extension": ".py",
   "mimetype": "text/x-python",
   "name": "python",
   "nbconvert_exporter": "python",
   "pygments_lexer": "ipython2",
   "version": "2.7.6"
  }
 },
 "nbformat": 4,
 "nbformat_minor": 0
}
